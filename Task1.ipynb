{
 "cells": [
  {
   "cell_type": "markdown",
   "metadata": {
    "tags": [
     "excluded_from_script"
    ]
   },
   "source": [
    "# Machine Leanring Project, Task 1: Feature Engineering"
   ]
  },
  {
   "cell_type": "code",
   "execution_count": 1,
   "metadata": {},
   "outputs": [],
   "source": [
    "# Imports\n",
    "import pandas as pd\n",
    "import math\n",
    "import numpy as np\n",
    "from sklearn.model_selection import cross_val_score\n",
    "from xgboost.sklearn import XGBRegressor\n",
    "import xgboost as xgb\n",
    "from time import mktime\n",
    "from datetime import datetime"
   ]
  },
  {
   "cell_type": "markdown",
   "metadata": {
    "tags": [
     "excluded_from_script"
    ]
   },
   "source": [
    "## Utility Methods"
   ]
  },
  {
   "cell_type": "code",
   "execution_count": 2,
   "metadata": {},
   "outputs": [],
   "source": [
    "def haversine_distance(origin, destination):\n",
    "    \"\"\"\n",
    "    # Formula to calculate the spherical distance between 2 coordinates, with each specified as a (lat, lng) tuple\n",
    "\n",
    "    :param origin: (lat, lng)\n",
    "    :type origin: tuple\n",
    "    :param destination: (lat, lng)\n",
    "    :type destination: tuple\n",
    "    :return: haversine distance\n",
    "    :rtype: float\n",
    "    \"\"\"\n",
    "    lat1, lon1 = origin\n",
    "    lat2, lon2 = destination\n",
    "    radius = 6371  # km\n",
    "\n",
    "    dlat = math.radians(lat2 - lat1)\n",
    "    dlon = math.radians(lon2 - lon1)\n",
    "    a = math.sin(dlat / 2) * math.sin(dlat / 2) + math.cos(math.radians(lat1)) * math.cos(\n",
    "        math.radians(lat2)) * math.sin(dlon / 2) * math.sin(dlon / 2)\n",
    "    c = 2 * math.atan2(math.sqrt(a), math.sqrt(1 - a))\n",
    "    d = radius * c\n",
    "\n",
    "    return d"
   ]
  },
  {
   "cell_type": "markdown",
   "metadata": {
    "tags": [
     "excluded_from_script"
    ]
   },
   "source": [
    "## Feature Engineering\n",
    "> TODO: You need to implement the two functions below to take in raw data, perform data preprocessing and create new features using your knowledge of the problem domain. The main difference between processing test and training data is that **you cannot filter out records from the test set** (i.e., you have to return a prediction even if the input data may be an outlier).\n",
    "\n",
    "> Feel free to add additional cells to explore the data. You will also find it very helpful to visualize the distribution of the dataset to get a sense of the trends or patterns. **However, you will want to exclude these cells when we export the notebook as an executable.** The submitter will exclude any cells tagged with `excluded_from_script`, so make sure you tag any cells containing exploration code appropriately. You can display the tags for each cell as such: `View > Cell Toolbar > Tags`."
   ]
  },
  {
   "cell_type": "code",
   "execution_count": 120,
   "metadata": {},
   "outputs": [],
   "source": [
    "def lat_lon_encoding_x(latitude, longitude):\n",
    "    x = math.cos(latitude) * math.cos(longitude)\n",
    "    return x\n",
    "\n",
    "def lat_lon_encoding_y(latitude, longitude):\n",
    "    y = math.cos(latitude) * math.sin(longitude)\n",
    "    return y"
   ]
  },
  {
   "cell_type": "code",
   "execution_count": 125,
   "metadata": {},
   "outputs": [],
   "source": [
    "def process_train_data(raw_df):\n",
    "    \"\"\"\n",
    "    TODO: Implement this method.\n",
    "    \n",
    "    You may drop rows if needed.\n",
    "\n",
    "    :param raw_df: the DataFrame of the raw training data\n",
    "    :return:  a DataFrame with the predictors created\n",
    "    \"\"\"\n",
    "    raw_df['origin'] = raw_df[['pickup_latitude', 'pickup_longitude']].apply(tuple, axis=1)\n",
    "    raw_df['destination'] = raw_df[['dropoff_latitude', 'dropoff_longitude']].apply(tuple, axis=1)\n",
    "    raw_df['distance'] = raw_df.apply(lambda x: haversine_distance(x['origin'], x['destination']), axis=1)\n",
    "    raw_df['pickup_loc_x'] = raw_df.apply(lambda x: lat_lon_encoding_x(x['pickup_latitude'], x['pickup_longitude']), axis=1)\n",
    "    raw_df['pickup_loc_y'] = raw_df.apply(lambda x: lat_lon_encoding_y(x['pickup_latitude'], x['pickup_longitude']), axis=1)\n",
    "    raw_df['pickup_time'] = raw_df['pickup_datetime'].apply(lambda x: mktime(datetime.strptime(str(x), \"%Y-%m-%d %H:%M:%S\").timetuple()))\n",
    "    train_df = raw_df[['distance', 'passenger_count', 'pickup_time', 'pickup_loc_x', 'pickup_loc_y', 'fare_amount']]\n",
    "    train_df = train_df.loc[train_df['fare_amount'] < 300]\n",
    "    return train_df\n",
    "\n",
    "\n",
    "def process_test_data(raw_df):\n",
    "    \"\"\"\n",
    "    TODO: Implement this method.\n",
    "    \n",
    "    You should NOT drop any rows.\n",
    "\n",
    "    :param raw_df: the DataFrame of the raw test data\n",
    "    :return: a DataFrame with the predictors created\n",
    "    \"\"\"\n",
    "    raw_df['origin'] = raw_df[['pickup_latitude', 'pickup_longitude']].apply(tuple, axis=1)\n",
    "    raw_df['destination'] = raw_df[['dropoff_latitude', 'dropoff_longitude']].apply(tuple, axis=1)\n",
    "    raw_df['distance'] = raw_df.apply(lambda x: haversine_distance(x['origin'], x['destination']), axis=1)\n",
    "    raw_df['pickup_loc_x'], raw_df['pickup_loc_y'] = raw_df.apply(lambda x: lat_lon_encoding(x['pickup_latitude'], x['pickup_longitude']), axis=1)\n",
    "    raw_df['pickup_time'] = raw_df['pickup_datetime'].apply(lambda x: mktime(datetime.strptime(str(x), \"%Y-%m-%d %H:%M:%S\").timetuple()))\n",
    "    test_df = raw_df[['key', 'distance', 'passenger_count', 'pickup_time', 'pickup_latitude', 'pickup_loc_x', 'pickup_loc_y', 'pickup_longitude']]\n",
    "    return test_df"
   ]
  },
  {
   "cell_type": "code",
   "execution_count": 11,
   "metadata": {
    "tags": [
     "excluded_from_script"
    ]
   },
   "outputs": [],
   "source": [
    "raw_train = pd.read_csv('data/cc_nyc_fare_train_small.csv', parse_dates=['pickup_datetime'])"
   ]
  },
  {
   "cell_type": "code",
   "execution_count": 98,
   "metadata": {
    "tags": [
     "excluded_from_script"
    ]
   },
   "outputs": [
    {
     "data": {
      "text/html": [
       "<div>\n",
       "<style scoped>\n",
       "    .dataframe tbody tr th:only-of-type {\n",
       "        vertical-align: middle;\n",
       "    }\n",
       "\n",
       "    .dataframe tbody tr th {\n",
       "        vertical-align: top;\n",
       "    }\n",
       "\n",
       "    .dataframe thead th {\n",
       "        text-align: right;\n",
       "    }\n",
       "</style>\n",
       "<table border=\"1\" class=\"dataframe\">\n",
       "  <thead>\n",
       "    <tr style=\"text-align: right;\">\n",
       "      <th></th>\n",
       "      <th>distance</th>\n",
       "      <th>passenger_count</th>\n",
       "      <th>pickup_time</th>\n",
       "      <th>fare_amount</th>\n",
       "    </tr>\n",
       "  </thead>\n",
       "  <tbody>\n",
       "    <tr>\n",
       "      <th>110215</th>\n",
       "      <td>6.421532</td>\n",
       "      <td>1</td>\n",
       "      <td>1.249504e+09</td>\n",
       "      <td>15.7</td>\n",
       "    </tr>\n",
       "    <tr>\n",
       "      <th>110216</th>\n",
       "      <td>0.944800</td>\n",
       "      <td>1</td>\n",
       "      <td>1.429524e+09</td>\n",
       "      <td>5.0</td>\n",
       "    </tr>\n",
       "    <tr>\n",
       "      <th>110217</th>\n",
       "      <td>8.235107</td>\n",
       "      <td>1</td>\n",
       "      <td>1.298674e+09</td>\n",
       "      <td>16.1</td>\n",
       "    </tr>\n",
       "    <tr>\n",
       "      <th>110218</th>\n",
       "      <td>3.822142</td>\n",
       "      <td>2</td>\n",
       "      <td>1.251932e+09</td>\n",
       "      <td>10.1</td>\n",
       "    </tr>\n",
       "    <tr>\n",
       "      <th>110219</th>\n",
       "      <td>2.514847</td>\n",
       "      <td>1</td>\n",
       "      <td>1.397291e+09</td>\n",
       "      <td>9.5</td>\n",
       "    </tr>\n",
       "  </tbody>\n",
       "</table>\n",
       "</div>"
      ],
      "text/plain": [
       "        distance  passenger_count   pickup_time  fare_amount\n",
       "110215  6.421532                1  1.249504e+09         15.7\n",
       "110216  0.944800                1  1.429524e+09          5.0\n",
       "110217  8.235107                1  1.298674e+09         16.1\n",
       "110218  3.822142                2  1.251932e+09         10.1\n",
       "110219  2.514847                1  1.397291e+09          9.5"
      ]
     },
     "execution_count": 98,
     "metadata": {},
     "output_type": "execute_result"
    }
   ],
   "source": [
    "from time import mktime\n",
    "from datetime import datetime\n",
    "raw_train['origin'] = raw_train[['pickup_latitude', 'pickup_longitude']].apply(tuple, axis=1)\n",
    "raw_train['destination'] = raw_train[['dropoff_latitude', 'dropoff_longitude']].apply(tuple, axis=1)\n",
    "raw_train['distance'] = raw_train.apply(lambda x: haversine_distance(x['origin'], x['destination']), axis=1)\n",
    "raw_train['pickup_time'] = raw_train['pickup_datetime'].apply(lambda x: mktime(datetime.strptime(str(x), \"%Y-%m-%d %H:%M:%S\").timetuple()))\n",
    "train_df = raw_train[['distance', 'passenger_count', 'pickup_time', 'fare_amount']]\n",
    "train_df = train_df.loc[train_df['fare_amount'] < 300]\n",
    "train_df.tail()\n"
   ]
  },
  {
   "cell_type": "code",
   "execution_count": 99,
   "metadata": {
    "tags": [
     "excluded_from_script"
    ]
   },
   "outputs": [
    {
     "data": {
      "image/png": "[encoded data removed]",
      "text/plain": [
       "<Figure size 432x288 with 1 Axes>"
      ]
     },
     "metadata": {
      "needs_background": "light"
     },
     "output_type": "display_data"
    }
   ],
   "source": [
    "import seaborn as sns\n",
    "sns.boxplot(x=raw_train['distance'])\n",
    "threshold=1000\n",
    "# raw_train_clean = raw_train.loc[raw_train['fare_amount'] < 300]\n",
    "# sns.boxplot(x=raw_train_clean['fare_amount'])"
   ]
  },
  {
   "cell_type": "markdown",
   "metadata": {
    "tags": [
     "excluded_from_script"
    ]
   },
   "source": [
    "## Model Checking with XGBoost and k-fold Cross Validation\n",
    "> As you iterate on your features, you want to quickly validate the model and evaluate if these new features help to improve your model's predictions. This process is known as model checking. You will use XGBoost to train the model, and use Root Mean Squared Error (RMSE) to quantify the performance. Cross validation is used to evaluate how the performance of the model will generalize to an unseen dataset."
   ]
  },
  {
   "cell_type": "code",
   "execution_count": 103,
   "metadata": {},
   "outputs": [
    {
     "name": "stdout",
     "output_type": "stream",
     "text": [
      "Shape of the raw data: (110222, 8)\n"
     ]
    }
   ],
   "source": [
    "# Load data\n",
    "raw_train = pd.read_csv('data/cc_nyc_fare_train_small.csv', parse_dates=['pickup_datetime'])\n",
    "print('Shape of the raw data: {}'.format(raw_train.shape))"
   ]
  },
  {
   "cell_type": "code",
   "execution_count": 126,
   "metadata": {},
   "outputs": [
    {
     "name": "stdout",
     "output_type": "stream",
     "text": [
      "Shape of the feature matrix: (110219, 3)\n"
     ]
    }
   ],
   "source": [
    "# Transform features using the function you have defined\n",
    "df_train = process_train_data(raw_train)\n",
    "\n",
    "# Remove fields that we do not want to train with\n",
    "X = df_train.drop(['key', 'fare_amount', 'pickup_datetime'], axis=1, errors='ignore')\n",
    "\n",
    "# Extract the value you want to predict\n",
    "Y = df_train['fare_amount']\n",
    "print('Shape of the feature matrix: {}'.format(X.shape))"
   ]
  },
  {
   "cell_type": "code",
   "execution_count": 127,
   "metadata": {
    "tags": [
     "excluded_from_script"
    ]
   },
   "outputs": [
    {
     "name": "stdout",
     "output_type": "stream",
     "text": [
      "Average RMSE with 5-fold Cross Validation: 4.815\n"
     ]
    }
   ],
   "source": [
    "# Evaluate features with K-fold cross validation\n",
    "# The higher K is, the longer it takes to run, and the higher your confidence in the score\n",
    "K = 5\n",
    "model = XGBRegressor()\n",
    "scores = cross_val_score(model, X, Y, cv=K, scoring='neg_mean_squared_error', verbose=False)\n",
    "avg_rmse = math.sqrt(abs(np.mean(scores)))\n",
    "\n",
    "print('Average RMSE with {}-fold Cross Validation: {:.3f}'.format(K, avg_rmse))"
   ]
  },
  {
   "cell_type": "markdown",
   "metadata": {
    "tags": [
     "excluded_from_script"
    ]
   },
   "source": [
    "## Evaluating Feature Importance\n",
    "> After you train the model, XGBoost has a handy utility that allows you to compare the relative importance of each feature. You should use this to assess which features you created are meaningful. "
   ]
  },
  {
   "cell_type": "code",
   "execution_count": 96,
   "metadata": {
    "tags": [
     "excluded_from_script"
    ]
   },
   "outputs": [
    {
     "data": {
      "text/plain": [
       "<matplotlib.axes._subplots.AxesSubplot at 0x7fd298286d68>"
      ]
     },
     "execution_count": 96,
     "metadata": {},
     "output_type": "execute_result"
    },
    {
     "data": {
      "image/png": "[encoded data removed]",
      "text/plain": [
       "<Figure size 432x288 with 1 Axes>"
      ]
     },
     "metadata": {
      "needs_background": "light"
     },
     "output_type": "display_data"
    }
   ],
   "source": [
    "# Train the model again with the entire training set\n",
    "model = XGBRegressor()\n",
    "model.fit(X, Y)\n",
    "xgb.plot_importance(model, height=0.8)"
   ]
  },
  {
   "cell_type": "markdown",
   "metadata": {
    "tags": [
     "excluded_from_script"
    ]
   },
   "source": [
    "## Evaluating against Hidden Test Set\n",
    "> Once you are satisfied with the performance of the features you have selected, you can use the trained model to make predictions on the hidden test set. **Do not change the default configuration of the model.** In task 1, you want to focus on feature selection, without worrying about tuning the model."
   ]
  },
  {
   "cell_type": "code",
   "execution_count": 97,
   "metadata": {},
   "outputs": [
    {
     "name": "stderr",
     "output_type": "stream",
     "text": [
      "/home/clouduser/virtualenv/lib/python3.5/site-packages/ipykernel_launcher.py:12: SettingWithCopyWarning: \n",
      "A value is trying to be set on a copy of a slice from a DataFrame.\n",
      "Try using .loc[row_indexer,col_indexer] = value instead\n",
      "\n",
      "See the caveats in the documentation: http://pandas.pydata.org/pandas-docs/stable/indexing.html#indexing-view-versus-copy\n",
      "  if sys.path[0] == '':\n"
     ]
    }
   ],
   "source": [
    "# Build final model with the entire training set\n",
    "final_model = XGBRegressor()\n",
    "final_model.fit(X, Y)\n",
    "\n",
    "# Read and transform test set\n",
    "raw_test = pd.read_csv('data/cc_nyc_fare_test.csv', parse_dates=['pickup_datetime'])\n",
    "df_test = process_test_data(raw_test)\n",
    "X_test = df_test.drop(['key', 'pickup_datetime'], axis=1, errors='ignore')\n",
    "\n",
    "# Make predictions for test set and output a csv file\n",
    "# DO NOT change the column names\n",
    "df_test['predicted_fare_amount'] = final_model.predict(X_test)\n",
    "df_test[['key', 'predicted_fare_amount']].to_csv('predictions.csv', index=False)"
   ]
  },
  {
   "cell_type": "code",
   "execution_count": null,
   "metadata": {},
   "outputs": [],
   "source": []
  }
 ],
 "metadata": {
  "celltoolbar": "Tags",
  "kernelspec": {
   "display_name": "Python 3",
   "language": "python",
   "name": "python3"
  },
  "language_info": {
   "codemirror_mode": {
    "name": "ipython",
    "version": 3
   },
   "file_extension": ".py",
   "mimetype": "text/x-python",
   "name": "python",
   "nbconvert_exporter": "python",
   "pygments_lexer": "ipython3",
   "version": "3.5.2"
  }
 },
 "nbformat": 4,
 "nbformat_minor": 2
}
