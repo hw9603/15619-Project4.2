{
 "cells": [
  {
   "cell_type": "markdown",
   "metadata": {
    "tags": [
     "excluded_from_script"
    ]
   },
   "source": [
    "# Machine Leanring Project, Task 1: Feature Engineering"
   ]
  },
  {
   "cell_type": "code",
   "execution_count": 2,
   "metadata": {},
   "outputs": [],
   "source": [
    "# Imports\n",
    "import pandas as pd\n",
    "import math\n",
    "import numpy as np\n",
    "from sklearn.model_selection import cross_val_score\n",
    "from xgboost.sklearn import XGBRegressor\n",
    "import xgboost as xgb\n",
    "from time import mktime\n",
    "from datetime import datetime"
   ]
  },
  {
   "cell_type": "markdown",
   "metadata": {
    "tags": [
     "excluded_from_script"
    ]
   },
   "source": [
    "## Utility Methods"
   ]
  },
  {
   "cell_type": "code",
   "execution_count": 3,
   "metadata": {},
   "outputs": [],
   "source": [
    "def haversine_distance(origin, destination):\n",
    "    \"\"\"\n",
    "    # Formula to calculate the spherical distance between 2 coordinates, with each specified as a (lat, lng) tuple\n",
    "\n",
    "    :param origin: (lat, lng)\n",
    "    :type origin: tuple\n",
    "    :param destination: (lat, lng)\n",
    "    :type destination: tuple\n",
    "    :return: haversine distance\n",
    "    :rtype: float\n",
    "    \"\"\"\n",
    "    lat1, lon1 = origin\n",
    "    lat2, lon2 = destination\n",
    "    radius = 6371  # km\n",
    "\n",
    "    dlat = math.radians(lat2 - lat1)\n",
    "    dlon = math.radians(lon2 - lon1)\n",
    "    a = math.sin(dlat / 2) * math.sin(dlat / 2) + math.cos(math.radians(lat1)) * math.cos(\n",
    "        math.radians(lat2)) * math.sin(dlon / 2) * math.sin(dlon / 2)\n",
    "    c = 2 * math.atan2(math.sqrt(a), math.sqrt(1 - a))\n",
    "    d = radius * c\n",
    "\n",
    "    return d"
   ]
  },
  {
   "cell_type": "markdown",
   "metadata": {
    "tags": [
     "excluded_from_script"
    ]
   },
   "source": [
    "## Feature Engineering\n",
    "> TODO: You need to implement the two functions below to take in raw data, perform data preprocessing and create new features using your knowledge of the problem domain. The main difference between processing test and training data is that **you cannot filter out records from the test set** (i.e., you have to return a prediction even if the input data may be an outlier).\n",
    "\n",
    "> Feel free to add additional cells to explore the data. You will also find it very helpful to visualize the distribution of the dataset to get a sense of the trends or patterns. **However, you will want to exclude these cells when we export the notebook as an executable.** The submitter will exclude any cells tagged with `excluded_from_script`, so make sure you tag any cells containing exploration code appropriately. You can display the tags for each cell as such: `View > Cell Toolbar > Tags`."
   ]
  },
  {
   "cell_type": "code",
   "execution_count": 99,
   "metadata": {},
   "outputs": [],
   "source": [
    "hotspots = [[40.7664, 40.7931, -73.8895, -73.8550],\n",
    "            [40.6700, 40.7081, -74.1925, -74.1531],\n",
    "            [40.6195, 40.6659, -73.8352, -73.7401]]\n",
    "regions = [[40.6829, 40.8820, -74.0479, -73.9067], \n",
    "           [40.5431, 40.8007, -73.9630, -73.7004],\n",
    "           [40.5707, 40.7395, -74.0421, -73.8334],\n",
    "           [40.7855, 40.9176, -73.9339, -73.7654],\n",
    "           [40.4960, 40.6490, -74.2558, -74.0522]]\n",
    "\n",
    "def is_hotspot(lat, lon):\n",
    "    for i, hotspot in enumerate(hotspots):\n",
    "        if (lat >= hotspot[0] and lat <= hotspot[1] and lon >= hotspot[2] and lon <= hotspot[3]):\n",
    "            return i\n",
    "    return -1\n",
    "    \n",
    "def categorize_region(lat, lon):\n",
    "    for i, region in enumerate(regions):\n",
    "        if (lat >= region[0] and lat <= region[1] and lon >= region[2] and lon <= region[3]):\n",
    "            return i\n",
    "    return -1"
   ]
  },
  {
   "cell_type": "code",
   "execution_count": 100,
   "metadata": {},
   "outputs": [],
   "source": [
    "def process_train_data(raw_df):\n",
    "    \"\"\"\n",
    "    TODO: Implement this method.\n",
    "    \n",
    "    You may drop rows if needed.\n",
    "\n",
    "    :param raw_df: the DataFrame of the raw training data\n",
    "    :return:  a DataFrame with the predictors created\n",
    "    \"\"\"\n",
    "    raw_df['origin'] = raw_df[['pickup_latitude', 'pickup_longitude']].apply(tuple, axis=1)\n",
    "    raw_df['destination'] = raw_df[['dropoff_latitude', 'dropoff_longitude']].apply(tuple, axis=1)\n",
    "    raw_df['distance'] = raw_df.apply(lambda x: haversine_distance(x['origin'], x['destination']), axis=1)\n",
    "    raw_df['raw_datetime'] = pd.to_datetime(raw_train['pickup_datetime'])\n",
    "    raw_df['hour'] = raw_df['raw_datetime'].apply(lambda x: x.hour)\n",
    "    raw_df['year'] = raw_df['raw_datetime'].apply(lambda x: x.year)\n",
    "    raw_df.loc[raw_df['distance'] < 100, 'is_long_travel'] = 0\n",
    "    raw_df.loc[raw_df['distance'] >= 100, 'is_long_travel'] = 1\n",
    "    \n",
    "    raw_df = raw_df.loc[(raw_df['pickup_latitude'] < 45) & (raw_df['pickup_latitude'] > 35)\n",
    "                        & (raw_df['pickup_longitude'] < -70) & (raw_df['pickup_longitude'] > -75)\n",
    "                        & (raw_df['fare_amount'] < 300)]\n",
    "    raw_df['pickup_is_hotspot'] = raw_df.apply(lambda x: is_hotspot(x['pickup_latitude'], x['pickup_longitude']), axis=1)\n",
    "#     raw_df['pickup_is_hotspot_2'] = raw_df.apply(lambda x: is_hotspot_2(x['pickup_latitude'], x['pickup_longitude']), axis=1)\n",
    "#     raw_df['pickup_is_hotspot_3'] = raw_df.apply(lambda x: is_hotspot_3(x['pickup_latitude'], x['pickup_longitude']), axis=1)\n",
    "    raw_df['dropoff_is_hotspot'] = raw_df.apply(lambda x: is_hotspot(x['dropoff_latitude'], x['dropoff_longitude']), axis=1)\n",
    "    raw_df['pickup_region'] = raw_df.apply(lambda x: categorize_region(x['pickup_latitude'], x['pickup_longitude']), axis=1)\n",
    "    raw_df['dropoff_region'] = raw_df.apply(lambda x: categorize_region(x['dropoff_latitude'], x['dropoff_longitude']), axis=1)\n",
    "    train_df = raw_df[['distance', 'hour', 'pickup_latitude', 'pickup_longitude',\n",
    "                       'is_long_travel', 'pickup_is_hotspot', \n",
    "                       'dropoff_is_hotspot',\n",
    "                       'pickup_region', 'dropoff_region',\n",
    "                       'fare_amount']]\n",
    "    \n",
    "    return train_df\n",
    "\n",
    "\n",
    "def process_test_data(raw_df):\n",
    "    \"\"\"\n",
    "    TODO: Implement this method.\n",
    "    \n",
    "    You should NOT drop any rows.\n",
    "\n",
    "    :param raw_df: the DataFrame of the raw test data\n",
    "    :return: a DataFrame with the predictors created\n",
    "    \"\"\"\n",
    "    raw_df['origin'] = raw_df[['pickup_latitude', 'pickup_longitude']].apply(tuple, axis=1)\n",
    "    raw_df['destination'] = raw_df[['dropoff_latitude', 'dropoff_longitude']].apply(tuple, axis=1)\n",
    "    raw_df['distance'] = raw_df.apply(lambda x: haversine_distance(x['origin'], x['destination']), axis=1)\n",
    "    raw_df['raw_datetime'] = pd.to_datetime(raw_train['pickup_datetime'])\n",
    "    raw_df['hour'] = raw_df['raw_datetime'].apply(lambda x: x.hour)\n",
    "    raw_df['year'] = raw_df['raw_datetime'].apply(lambda x: x.year)\n",
    "    test_df = raw_df[['key', 'distance', 'hour', 'year', 'pickup_latitude', 'pickup_longitude']]\n",
    "    return test_df"
   ]
  },
  {
   "cell_type": "code",
   "execution_count": 66,
   "metadata": {
    "tags": [
     "excluded_from_script"
    ]
   },
   "outputs": [],
   "source": [
    "raw_train = pd.read_csv('data/cc_nyc_fare_train_small.csv', parse_dates=['pickup_datetime'])"
   ]
  },
  {
   "cell_type": "code",
   "execution_count": 68,
   "metadata": {
    "tags": [
     "excluded_from_script"
    ]
   },
   "outputs": [
    {
     "name": "stdout",
     "output_type": "stream",
     "text": [
      "1265230289.0\n"
     ]
    }
   ],
   "source": [
    "import seaborn as sns\n",
    "# print(raw_train['distance'])\n",
    "# short_distance = raw_train.loc[raw_train['distance'] < 30]\n",
    "# sns.boxplot(x=short_distance['distance'])\n",
    "threshold=1000\n",
    "# raw_train['pickup_time'] = raw_train['pickup_datetime'].apply(lambda x: mktime(datetime.strptime(str(x), \"%Y-%m-%d %H:%M:%S\").timetuple()))\n",
    "# print(raw_train['pickup_time'][0])\n",
    "# raw_train_clean = raw_train.loc[raw_train['fare_amount'] < 300]\n",
    "# sns.boxplot(x=raw_train_clean['fare_amount'])"
   ]
  },
  {
   "cell_type": "code",
   "execution_count": 38,
   "metadata": {},
   "outputs": [
    {
     "data": {
      "text/plain": [
       "<matplotlib.collections.PathCollection at 0x7fe06422ef60>"
      ]
     },
     "execution_count": 38,
     "metadata": {},
     "output_type": "execute_result"
    },
    {
     "data": {
      "image/png": "[encoded data removed]",
      "text/plain": [
       "<Figure size 432x288 with 1 Axes>"
      ]
     },
     "metadata": {
      "needs_background": "light"
     },
     "output_type": "display_data"
    }
   ],
   "source": [
    "%matplotlib inline\n",
    "import matplotlib as mpl\n",
    "import matplotlib.pyplot as plt\n",
    "# from mpl_toolkits.basemap import Basemap\n",
    "# print(raw_train[['pickup_latitude', 'pickup_longitude']])\n",
    "raw_train = raw_train.loc[(raw_train['pickup_latitude'] < 45) & (raw_train['pickup_latitude'] > 35)\n",
    "                         & (raw_train['pickup_longitude'] < -70) & (raw_train['pickup_longitude'] > -75)]\n",
    "plt.scatter(raw_train['pickup_latitude'], raw_train['pickup_longitude'])"
   ]
  },
  {
   "cell_type": "markdown",
   "metadata": {
    "tags": [
     "excluded_from_script"
    ]
   },
   "source": [
    "## Model Checking with XGBoost and k-fold Cross Validation\n",
    "> As you iterate on your features, you want to quickly validate the model and evaluate if these new features help to improve your model's predictions. This process is known as model checking. You will use XGBoost to train the model, and use Root Mean Squared Error (RMSE) to quantify the performance. Cross validation is used to evaluate how the performance of the model will generalize to an unseen dataset."
   ]
  },
  {
   "cell_type": "code",
   "execution_count": 101,
   "metadata": {},
   "outputs": [
    {
     "name": "stdout",
     "output_type": "stream",
     "text": [
      "Shape of the raw data: (110222, 8)\n"
     ]
    }
   ],
   "source": [
    "# Load data\n",
    "raw_train = pd.read_csv('data/cc_nyc_fare_train_small.csv', parse_dates=['pickup_datetime'])\n",
    "print('Shape of the raw data: {}'.format(raw_train.shape))"
   ]
  },
  {
   "cell_type": "code",
   "execution_count": 102,
   "metadata": {},
   "outputs": [
    {
     "name": "stderr",
     "output_type": "stream",
     "text": [
      "/home/clouduser/virtualenv/lib/python3.5/site-packages/ipykernel_launcher.py:22: SettingWithCopyWarning: \n",
      "A value is trying to be set on a copy of a slice from a DataFrame.\n",
      "Try using .loc[row_indexer,col_indexer] = value instead\n",
      "\n",
      "See the caveats in the documentation: http://pandas.pydata.org/pandas-docs/stable/indexing.html#indexing-view-versus-copy\n",
      "/home/clouduser/virtualenv/lib/python3.5/site-packages/ipykernel_launcher.py:25: SettingWithCopyWarning: \n",
      "A value is trying to be set on a copy of a slice from a DataFrame.\n",
      "Try using .loc[row_indexer,col_indexer] = value instead\n",
      "\n",
      "See the caveats in the documentation: http://pandas.pydata.org/pandas-docs/stable/indexing.html#indexing-view-versus-copy\n",
      "/home/clouduser/virtualenv/lib/python3.5/site-packages/ipykernel_launcher.py:28: SettingWithCopyWarning: \n",
      "A value is trying to be set on a copy of a slice from a DataFrame.\n",
      "Try using .loc[row_indexer,col_indexer] = value instead\n",
      "\n",
      "See the caveats in the documentation: http://pandas.pydata.org/pandas-docs/stable/indexing.html#indexing-view-versus-copy\n"
     ]
    },
    {
     "name": "stdout",
     "output_type": "stream",
     "text": [
      "Shape of the feature matrix: (108131, 9)\n"
     ]
    },
    {
     "name": "stderr",
     "output_type": "stream",
     "text": [
      "/home/clouduser/virtualenv/lib/python3.5/site-packages/ipykernel_launcher.py:29: SettingWithCopyWarning: \n",
      "A value is trying to be set on a copy of a slice from a DataFrame.\n",
      "Try using .loc[row_indexer,col_indexer] = value instead\n",
      "\n",
      "See the caveats in the documentation: http://pandas.pydata.org/pandas-docs/stable/indexing.html#indexing-view-versus-copy\n"
     ]
    }
   ],
   "source": [
    "# Transform features using the function you have defined\n",
    "df_train = process_train_data(raw_train)\n",
    "\n",
    "# Remove fields that we do not want to train with\n",
    "X = df_train.drop(['key', 'fare_amount', 'pickup_datetime'], axis=1, errors='ignore')\n",
    "\n",
    "# Extract the value you want to predict\n",
    "Y = df_train['fare_amount']\n",
    "print('Shape of the feature matrix: {}'.format(X.shape))"
   ]
  },
  {
   "cell_type": "code",
   "execution_count": 103,
   "metadata": {
    "tags": [
     "excluded_from_script"
    ]
   },
   "outputs": [
    {
     "name": "stdout",
     "output_type": "stream",
     "text": [
      "Average RMSE with 5-fold Cross Validation: 4.424\n"
     ]
    }
   ],
   "source": [
    "# Evaluate features with K-fold cross validation\n",
    "# The higher K is, the longer it takes to run, and the higher your confidence in the score\n",
    "K = 5\n",
    "model = XGBRegressor()\n",
    "scores = cross_val_score(model, X, Y, cv=K, scoring='neg_mean_squared_error', verbose=False)\n",
    "avg_rmse = math.sqrt(abs(np.mean(scores)))\n",
    "\n",
    "print('Average RMSE with {}-fold Cross Validation: {:.3f}'.format(K, avg_rmse))"
   ]
  },
  {
   "cell_type": "markdown",
   "metadata": {
    "tags": [
     "excluded_from_script"
    ]
   },
   "source": [
    "## Evaluating Feature Importance\n",
    "> After you train the model, XGBoost has a handy utility that allows you to compare the relative importance of each feature. You should use this to assess which features you created are meaningful. "
   ]
  },
  {
   "cell_type": "code",
   "execution_count": 57,
   "metadata": {
    "tags": [
     "excluded_from_script"
    ]
   },
   "outputs": [
    {
     "data": {
      "text/plain": [
       "<matplotlib.axes._subplots.AxesSubplot at 0x7fe067eedc88>"
      ]
     },
     "execution_count": 57,
     "metadata": {},
     "output_type": "execute_result"
    },
    {
     "data": {
      "image/png": "[encoded data removed]",
      "text/plain": [
       "<Figure size 432x288 with 1 Axes>"
      ]
     },
     "metadata": {
      "needs_background": "light"
     },
     "output_type": "display_data"
    }
   ],
   "source": [
    "# Train the model again with the entire training set\n",
    "model = XGBRegressor()\n",
    "model.fit(X, Y)\n",
    "xgb.plot_importance(model, height=0.8)"
   ]
  },
  {
   "cell_type": "markdown",
   "metadata": {
    "tags": [
     "excluded_from_script"
    ]
   },
   "source": [
    "## Evaluating against Hidden Test Set\n",
    "> Once you are satisfied with the performance of the features you have selected, you can use the trained model to make predictions on the hidden test set. **Do not change the default configuration of the model.** In task 1, you want to focus on feature selection, without worrying about tuning the model."
   ]
  },
  {
   "cell_type": "code",
   "execution_count": 97,
   "metadata": {},
   "outputs": [
    {
     "name": "stderr",
     "output_type": "stream",
     "text": [
      "/home/clouduser/virtualenv/lib/python3.5/site-packages/ipykernel_launcher.py:12: SettingWithCopyWarning: \n",
      "A value is trying to be set on a copy of a slice from a DataFrame.\n",
      "Try using .loc[row_indexer,col_indexer] = value instead\n",
      "\n",
      "See the caveats in the documentation: http://pandas.pydata.org/pandas-docs/stable/indexing.html#indexing-view-versus-copy\n",
      "  if sys.path[0] == '':\n"
     ]
    }
   ],
   "source": [
    "# Build final model with the entire training set\n",
    "final_model = XGBRegressor()\n",
    "final_model.fit(X, Y)\n",
    "\n",
    "# Read and transform test set\n",
    "raw_test = pd.read_csv('data/cc_nyc_fare_test.csv', parse_dates=['pickup_datetime'])\n",
    "df_test = process_test_data(raw_test)\n",
    "X_test = df_test.drop(['key', 'pickup_datetime'], axis=1, errors='ignore')\n",
    "\n",
    "# Make predictions for test set and output a csv file\n",
    "# DO NOT change the column names\n",
    "df_test['predicted_fare_amount'] = final_model.predict(X_test)\n",
    "df_test[['key', 'predicted_fare_amount']].to_csv('predictions.csv', index=False)"
   ]
  },
  {
   "cell_type": "code",
   "execution_count": null,
   "metadata": {},
   "outputs": [],
   "source": []
  }
 ],
 "metadata": {
  "celltoolbar": "Tags",
  "kernelspec": {
   "display_name": "Python 3",
   "language": "python",
   "name": "python3"
  },
  "language_info": {
   "codemirror_mode": {
    "name": "ipython",
    "version": 3
   },
   "file_extension": ".py",
   "mimetype": "text/x-python",
   "name": "python",
   "nbconvert_exporter": "python",
   "pygments_lexer": "ipython3",
   "version": "3.5.2"
  }
 },
 "nbformat": 4,
 "nbformat_minor": 2
}
